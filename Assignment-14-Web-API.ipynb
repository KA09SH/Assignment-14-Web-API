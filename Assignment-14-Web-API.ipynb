{
 "cells": [
  {
   "cell_type": "code",
   "execution_count": null,
   "id": "0e7c1747",
   "metadata": {},
   "outputs": [],
   "source": [
    "#Q1. What is an API? Give an example, where an API is used in real life.\n",
    "\n",
    "#A. API or Application Programming Interface is a way for two or more computer programs to communicate with each other.\n",
    "#.  It is a type of software interface, offering a service to other pieces of software. \n",
    "#.  A document or standard that describes how to build or use such a connection or interface is called an API specification.\n",
    "\n",
    "#Example of API in real life\n",
    "\n",
    "# Twitter has numerous bots that utilize the Twitter API to perform automated tasks.\n",
    "\n",
    "# Weather snippets are a prime API example, showing how Google coordinates with other software on the web.\n",
    "\n"
   ]
  },
  {
   "cell_type": "code",
   "execution_count": null,
   "id": "e8372ffe",
   "metadata": {},
   "outputs": [],
   "source": [
    "#Q2. Give advantages and disadvantages of using API.\n",
    "\n",
    "#A. \n",
    "\n",
    "#Advantages: \n",
    "\n",
    "# Increased Interoperability\n",
    "# Improved Efficiency\n",
    "# Better User Experience\n",
    "# Increased Flexibility\n",
    "# New Revenue Streams\n",
    "\n",
    "#Disadvantages:\n",
    "\n",
    "# Security Concerns\n",
    "# Complexity\n",
    "# Compatibility Issues\n",
    "# Dependency on Third-Party Developers\n",
    "# Governance and Management\n"
   ]
  },
  {
   "cell_type": "code",
   "execution_count": null,
   "id": "5c3181be",
   "metadata": {},
   "outputs": [],
   "source": [
    "#Q3. What is a Web API? Differentiate between API and Web API.\n",
    "\n",
    "#A. A web API is an application programming interface for either a web server or a web browser. \n",
    "#.  As a web development concept, it can be related to a web application's client side.\n",
    "\n",
    "#. Difference between API and Web API\n",
    "\n",
    "# Web service supports XML, while API supports XML and JSON.\n",
    "# All Web services are APIs, but all APIs are not web services.\n",
    "# Web services provides supports only for the HTTP protocol whereas APIs provides support for the HTTP/s protocol: URL Request/Response Headers, and so on.\n",
    "# Web service is used for REST, SOAP and XML-RPC for communication while API is used for any style of communication.\n"
   ]
  },
  {
   "cell_type": "code",
   "execution_count": null,
   "id": "833272d5",
   "metadata": {},
   "outputs": [],
   "source": [
    "#Q4. Explain REST and SOAP Architecture. Mention shortcomings of SOAP.\n",
    "\n",
    "#A. SOAP and REST are two different approaches to API design.\n",
    "\n",
    "#.  SOAP approach is highly structured and uses XML data format. \n",
    "#.  REST is more flexible and allows applications to exchange data in multiple formats.\n",
    "\n",
    "#. The constraints of SOAP are Uniform Interface, Client-Server, Stateless, Cacheable, Layered System, Code on Demand.\n",
    "\n"
   ]
  },
  {
   "cell_type": "code",
   "execution_count": null,
   "id": "398713f3",
   "metadata": {},
   "outputs": [],
   "source": [
    "#Q5. Differentiate between REST and SOAP.\n",
    "\n",
    "#A. \n",
    "\n",
    "# SOAP Transports data in standard XML format while REST transports data in JSON.\n",
    "\n",
    "# SOAP works over HTTP, HTTPS, SMTP, XMPP whereas works over HTTP and HTTPS.\n",
    "\n",
    "# SOAP is highly structured/typed while REST less structured -> less bulky data.\n",
    "\n",
    "# SOAP is designed with large enterprise applications in mind while REST is designed with mobile devices in mind.\n",
    "\n"
   ]
  },
  {
   "cell_type": "code",
   "execution_count": null,
   "id": "5955977d",
   "metadata": {},
   "outputs": [],
   "source": []
  }
 ],
 "metadata": {
  "kernelspec": {
   "display_name": "Python 3 (ipykernel)",
   "language": "python",
   "name": "python3"
  },
  "language_info": {
   "codemirror_mode": {
    "name": "ipython",
    "version": 3
   },
   "file_extension": ".py",
   "mimetype": "text/x-python",
   "name": "python",
   "nbconvert_exporter": "python",
   "pygments_lexer": "ipython3",
   "version": "3.10.9"
  }
 },
 "nbformat": 4,
 "nbformat_minor": 5
}
